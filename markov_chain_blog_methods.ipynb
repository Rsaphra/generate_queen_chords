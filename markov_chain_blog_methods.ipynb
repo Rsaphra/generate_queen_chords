{
 "cells": [
  {
   "cell_type": "code",
   "execution_count": 1,
   "metadata": {},
   "outputs": [],
   "source": [
    "######Creating the Markov Chain Model########"
   ]
  },
  {
   "cell_type": "code",
   "execution_count": 11,
   "metadata": {},
   "outputs": [],
   "source": [
    "import pandas as pd"
   ]
  },
  {
   "cell_type": "code",
   "execution_count": 2,
   "metadata": {},
   "outputs": [],
   "source": [
    "def get_row_total(row):\n",
    "    \"\"\"given a row, get sum of the values\"\"\"\n",
    "    return sum(row.values())"
   ]
  },
  {
   "cell_type": "code",
   "execution_count": 3,
   "metadata": {},
   "outputs": [],
   "source": [
    "def normalize_dict(dictionary):\n",
    "    \"\"\"given dictionary has values that are lists\n",
    "        set the new value to a list where corresponding\n",
    "        elements have been normalized\"\"\"\n",
    "    \n",
    "    for key, values_list in dictionary.items():\n",
    "        total = sum(values_list)\n",
    "        normed_values = []\n",
    "        #find the normalized value and append\n",
    "        for value in values_list:\n",
    "            normed_value = value/total\n",
    "            normed_values.append(normed_value)\n",
    "        #set key equal to the new list of normed values\n",
    "        dictionary[key] = normed_values\n",
    "    return dictionary"
   ]
  },
  {
   "cell_type": "code",
   "execution_count": 4,
   "metadata": {},
   "outputs": [],
   "source": [
    "def turn_to_dict_with_lists(nested_dict):\n",
    "    \"\"\"turn a nested dictionary into a dict with lists\n",
    "        ex: {d1:{k1:v1, k2:v2, k3, v3}} --> {d1: [v1, v2, v3]}\"\"\" \n",
    "    new_dict = {}\n",
    "    for row, columns in nested_dict.items():\n",
    "        listed_values = make_arbitrary_list_from(columns)\n",
    "        new_dict[row] = listed_values\n",
    "    return new_dict"
   ]
  },
  {
   "cell_type": "code",
   "execution_count": 5,
   "metadata": {},
   "outputs": [],
   "source": [
    "def make_arbitrary_list_from(dictionary):\n",
    "    \"\"\"creates a list where the first value from \n",
    "    keyvalue pair is index 0, and so forth\"\"\"\n",
    "    new_list = []\n",
    "    for value in dictionary.values():\n",
    "        new_list.append(value)\n",
    "    return new_list"
   ]
  },
  {
   "cell_type": "code",
   "execution_count": 6,
   "metadata": {},
   "outputs": [],
   "source": [
    "def add_to_row_dict(row_dict, value_list):\n",
    "    \"\"\"given list of values, \"\"\"\n",
    "    for i in range(0, len(value_list) - 1): # - 1 because we don't want to go out of range\n",
    "        current = value_list[i]\n",
    "        following = value_list[i + 1]\n",
    "        #initialize dict with chords\n",
    "        if current not in row_dict:\n",
    "            row_dict[current] = {'I':0, 'ii':0, 'iii':0, 'IV':0, 'V':0, 'vi':0, 'vii':0}\n",
    "        current_row = row_dict[current]   \n",
    "        if following not in row_dict[current]:\n",
    "            current_row[following] = 1\n",
    "        else:\n",
    "            current_row[following] += 1\n",
    "    return row_dict    \n",
    "    "
   ]
  },
  {
   "cell_type": "code",
   "execution_count": 7,
   "metadata": {},
   "outputs": [],
   "source": [
    "def create_markov_chain(dictionary):\n",
    "    \"\"\"Given a dictionary with containing lists \n",
    "        of values, count the odds of an element proceeding it\"\"\"\n",
    "    row_dict = {}\n",
    "    for value_list in dictionary.values():\n",
    "        row_dict = add_to_row_dict(row_dict, value_list)\n",
    "    \n",
    "    #in order to make it easy for pandas, we turn it into 1 dictionary, with lists\n",
    "    formatted_dict = turn_to_dict_with_lists(row_dict)\n",
    "    normalized_dictionary = normalize_dict(formatted_dict)\n",
    "    return normalized_dictionary\n",
    "                             "
   ]
  },
  {
   "cell_type": "code",
   "execution_count": 8,
   "metadata": {},
   "outputs": [],
   "source": [
    "queen_chords = {'Dont Stop Me':['I', 'ii', 'vi', 'IV', 'V', 'I'], \n",
    "                   'bohemian rhapsody opening': ['vi', 'I', 'I', 'ii', 'V', 'V', 'I'], \n",
    "                   'bohemian rhapsody breakdown':['vi', 'ii', 'vi', 'ii', 'ii', 'V', 'ii', 'V', 'I'],\n",
    "                  'Fat Bottom Girls': ['I', 'V', 'vi', 'I', \"vi\", \"IV\", \"I\"],\n",
    "                  'We are the champions' : ['I', 'iii', 'vi', 'IV', 'V', 'I']}"
   ]
  },
  {
   "cell_type": "code",
   "execution_count": 13,
   "metadata": {},
   "outputs": [],
   "source": [
    "queens_table = create_markov_chain(queen_chords)"
   ]
  },
  {
   "cell_type": "code",
   "execution_count": 14,
   "metadata": {},
   "outputs": [],
   "source": [
    "chord_df = pd.DataFrame.from_dict(queens_table, orient='index')"
   ]
  },
  {
   "cell_type": "code",
   "execution_count": 15,
   "metadata": {},
   "outputs": [],
   "source": [
    "chord_df = chord_df.rename(columns={0: \"I\", 1: \"ii\", 2: \"iii\", 3: \"IV\", 4: \"V\", 5: \"vi\", 6: \"vii\"})"
   ]
  },
  {
   "cell_type": "code",
   "execution_count": 16,
   "metadata": {},
   "outputs": [],
   "source": [
    "######Here begins generation functions##############################\n",
    "\n",
    "import random\n",
    "import numpy as np"
   ]
  },
  {
   "cell_type": "code",
   "execution_count": null,
   "metadata": {},
   "outputs": [],
   "source": []
  },
  {
   "cell_type": "code",
   "execution_count": 17,
   "metadata": {},
   "outputs": [],
   "source": [
    "def generate_chord(chord_row, rng):\n",
    "    chords = chord_row.index.to_numpy()\n",
    "    values = chord_row.values\n",
    "    #generate the next chord with weighted randomization\n",
    "    next_chord = np.random.choice(chords, 1, p=values)\n",
    "    return next_chord\n"
   ]
  },
  {
   "cell_type": "code",
   "execution_count": 18,
   "metadata": {},
   "outputs": [],
   "source": [
    "def get_next_chord(chord_df, chord):\n",
    "    rng = random.uniform(0, 1)\n",
    "    curr_chord_row = chord_df.loc[chord, :]\n",
    "    next_chord = generate_chord(curr_chord_row, rng)\n",
    "    return next_chord"
   ]
  },
  {
   "cell_type": "code",
   "execution_count": 19,
   "metadata": {},
   "outputs": [],
   "source": [
    "def generate_chord_prog(first_chord, num_of_times, chord_df):\n",
    "    #initialize list with the first chord\n",
    "    generated_prog = [first_chord]\n",
    "    current = first_chord\n",
    "    for i in range(0, num_of_times - 1): \n",
    "        next_chord = get_next_chord(chord_df, current)[0]\n",
    "        generated_prog.append(next_chord)\n",
    "        #reassign current so that next iteration won't run on a loop\n",
    "        current = next_chord\n",
    "    return generated_prog\n",
    "    "
   ]
  },
  {
   "cell_type": "code",
   "execution_count": 20,
   "metadata": {},
   "outputs": [],
   "source": [
    "def generate_new_queen_song(chord_df):\n",
    "    first_chord = 'I'\n",
    "    return generate_chord_prog( 'I', 8, chord_df)\n",
    "        "
   ]
  },
  {
   "cell_type": "code",
   "execution_count": 21,
   "metadata": {},
   "outputs": [
    {
     "data": {
      "text/html": [
       "<div>\n",
       "<style scoped>\n",
       "    .dataframe tbody tr th:only-of-type {\n",
       "        vertical-align: middle;\n",
       "    }\n",
       "\n",
       "    .dataframe tbody tr th {\n",
       "        vertical-align: top;\n",
       "    }\n",
       "\n",
       "    .dataframe thead th {\n",
       "        text-align: right;\n",
       "    }\n",
       "</style>\n",
       "<table border=\"1\" class=\"dataframe\">\n",
       "  <thead>\n",
       "    <tr style=\"text-align: right;\">\n",
       "      <th></th>\n",
       "      <th>I</th>\n",
       "      <th>ii</th>\n",
       "      <th>iii</th>\n",
       "      <th>IV</th>\n",
       "      <th>V</th>\n",
       "      <th>vi</th>\n",
       "      <th>vii</th>\n",
       "    </tr>\n",
       "  </thead>\n",
       "  <tbody>\n",
       "    <tr>\n",
       "      <th>I</th>\n",
       "      <td>0.166667</td>\n",
       "      <td>0.333333</td>\n",
       "      <td>0.166667</td>\n",
       "      <td>0.000000</td>\n",
       "      <td>0.166667</td>\n",
       "      <td>0.166667</td>\n",
       "      <td>0.0</td>\n",
       "    </tr>\n",
       "    <tr>\n",
       "      <th>ii</th>\n",
       "      <td>0.000000</td>\n",
       "      <td>0.166667</td>\n",
       "      <td>0.000000</td>\n",
       "      <td>0.000000</td>\n",
       "      <td>0.500000</td>\n",
       "      <td>0.333333</td>\n",
       "      <td>0.0</td>\n",
       "    </tr>\n",
       "    <tr>\n",
       "      <th>vi</th>\n",
       "      <td>0.285714</td>\n",
       "      <td>0.285714</td>\n",
       "      <td>0.000000</td>\n",
       "      <td>0.428571</td>\n",
       "      <td>0.000000</td>\n",
       "      <td>0.000000</td>\n",
       "      <td>0.0</td>\n",
       "    </tr>\n",
       "    <tr>\n",
       "      <th>IV</th>\n",
       "      <td>0.333333</td>\n",
       "      <td>0.000000</td>\n",
       "      <td>0.000000</td>\n",
       "      <td>0.000000</td>\n",
       "      <td>0.666667</td>\n",
       "      <td>0.000000</td>\n",
       "      <td>0.0</td>\n",
       "    </tr>\n",
       "    <tr>\n",
       "      <th>V</th>\n",
       "      <td>0.571429</td>\n",
       "      <td>0.142857</td>\n",
       "      <td>0.000000</td>\n",
       "      <td>0.000000</td>\n",
       "      <td>0.142857</td>\n",
       "      <td>0.142857</td>\n",
       "      <td>0.0</td>\n",
       "    </tr>\n",
       "    <tr>\n",
       "      <th>iii</th>\n",
       "      <td>0.000000</td>\n",
       "      <td>0.000000</td>\n",
       "      <td>0.000000</td>\n",
       "      <td>0.000000</td>\n",
       "      <td>0.000000</td>\n",
       "      <td>1.000000</td>\n",
       "      <td>0.0</td>\n",
       "    </tr>\n",
       "  </tbody>\n",
       "</table>\n",
       "</div>"
      ],
      "text/plain": [
       "            I        ii       iii        IV         V        vi  vii\n",
       "I    0.166667  0.333333  0.166667  0.000000  0.166667  0.166667  0.0\n",
       "ii   0.000000  0.166667  0.000000  0.000000  0.500000  0.333333  0.0\n",
       "vi   0.285714  0.285714  0.000000  0.428571  0.000000  0.000000  0.0\n",
       "IV   0.333333  0.000000  0.000000  0.000000  0.666667  0.000000  0.0\n",
       "V    0.571429  0.142857  0.000000  0.000000  0.142857  0.142857  0.0\n",
       "iii  0.000000  0.000000  0.000000  0.000000  0.000000  1.000000  0.0"
      ]
     },
     "execution_count": 21,
     "metadata": {},
     "output_type": "execute_result"
    }
   ],
   "source": [
    "chord_df"
   ]
  },
  {
   "cell_type": "code",
   "execution_count": 25,
   "metadata": {},
   "outputs": [
    {
     "data": {
      "text/plain": [
       "['I', 'iii', 'vi', 'ii', 'vi', 'IV', 'V', 'ii']"
      ]
     },
     "execution_count": 25,
     "metadata": {},
     "output_type": "execute_result"
    }
   ],
   "source": [
    "generate_new_queen_song(chord_df)"
   ]
  },
  {
   "cell_type": "code",
   "execution_count": null,
   "metadata": {},
   "outputs": [],
   "source": []
  },
  {
   "cell_type": "code",
   "execution_count": null,
   "metadata": {},
   "outputs": [],
   "source": []
  },
  {
   "cell_type": "code",
   "execution_count": null,
   "metadata": {},
   "outputs": [],
   "source": []
  }
 ],
 "metadata": {
  "kernelspec": {
   "display_name": "Python 3",
   "language": "python",
   "name": "python3"
  },
  "language_info": {
   "codemirror_mode": {
    "name": "ipython",
    "version": 3
   },
   "file_extension": ".py",
   "mimetype": "text/x-python",
   "name": "python",
   "nbconvert_exporter": "python",
   "pygments_lexer": "ipython3",
   "version": "3.7.3"
  }
 },
 "nbformat": 4,
 "nbformat_minor": 2
}
